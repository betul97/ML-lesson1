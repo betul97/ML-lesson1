{
 "cells": [
  {
   "cell_type": "markdown",
   "id": "vocational-shopper",
   "metadata": {
    "id": "vocational-shopper"
   },
   "source": [
    "# Simple Linear Regression - Supervised Model"
   ]
  },
  {
   "cell_type": "markdown",
   "id": "lesbian-fluid",
   "metadata": {
    "id": "lesbian-fluid"
   },
   "source": [
    "## Import Library"
   ]
  },
  {
   "cell_type": "code",
   "execution_count": 1,
   "id": "bottom-parish",
   "metadata": {
    "ExecuteTime": {
     "end_time": "2022-11-20T13:01:21.428185Z",
     "start_time": "2022-11-20T13:01:20.353188Z"
    },
    "id": "bottom-parish"
   },
   "outputs": [],
   "source": [
    "import numpy as np\n",
    "import pandas as pd\n",
    "import matplotlib.pyplot as plt\n",
    "import seaborn as sns\n",
    "plt.rcParams[\"figure.figsize\"] = (10,6) # Notebboktaki tüm görselleri 10,6 boyutuna getirir.\n",
    "%matplotlib inline\n",
    "\n",
    "import warnings\n",
    "warnings.filterwarnings('ignore')"
   ]
  },
  {
   "cell_type": "markdown",
   "id": "thick-anderson",
   "metadata": {
    "id": "thick-anderson"
   },
   "source": [
    "## Read Dataset"
   ]
  },
  {
   "cell_type": "code",
   "execution_count": 2,
   "id": "f55b7640",
   "metadata": {
    "ExecuteTime": {
     "end_time": "2022-11-20T13:01:21.458229Z",
     "start_time": "2022-11-20T13:01:21.428185Z"
    },
    "id": "f55b7640",
    "outputId": "f6d71dc5-459d-4d65-dd27-b2a200620099"
   },
   "outputs": [
    {
     "data": {
      "text/html": [
       "<div>\n",
       "<style scoped>\n",
       "    .dataframe tbody tr th:only-of-type {\n",
       "        vertical-align: middle;\n",
       "    }\n",
       "\n",
       "    .dataframe tbody tr th {\n",
       "        vertical-align: top;\n",
       "    }\n",
       "\n",
       "    .dataframe thead th {\n",
       "        text-align: right;\n",
       "    }\n",
       "</style>\n",
       "<table border=\"1\" class=\"dataframe\">\n",
       "  <thead>\n",
       "    <tr style=\"text-align: right;\">\n",
       "      <th></th>\n",
       "      <th>TV</th>\n",
       "      <th>radio</th>\n",
       "      <th>newspaper</th>\n",
       "      <th>sales</th>\n",
       "    </tr>\n",
       "  </thead>\n",
       "  <tbody>\n",
       "    <tr>\n",
       "      <th>0</th>\n",
       "      <td>230.1</td>\n",
       "      <td>37.8</td>\n",
       "      <td>69.2</td>\n",
       "      <td>22.1</td>\n",
       "    </tr>\n",
       "    <tr>\n",
       "      <th>1</th>\n",
       "      <td>44.5</td>\n",
       "      <td>39.3</td>\n",
       "      <td>45.1</td>\n",
       "      <td>10.4</td>\n",
       "    </tr>\n",
       "    <tr>\n",
       "      <th>2</th>\n",
       "      <td>17.2</td>\n",
       "      <td>45.9</td>\n",
       "      <td>69.3</td>\n",
       "      <td>9.3</td>\n",
       "    </tr>\n",
       "    <tr>\n",
       "      <th>3</th>\n",
       "      <td>151.5</td>\n",
       "      <td>41.3</td>\n",
       "      <td>58.5</td>\n",
       "      <td>18.5</td>\n",
       "    </tr>\n",
       "    <tr>\n",
       "      <th>4</th>\n",
       "      <td>180.8</td>\n",
       "      <td>10.8</td>\n",
       "      <td>58.4</td>\n",
       "      <td>12.9</td>\n",
       "    </tr>\n",
       "    <tr>\n",
       "      <th>...</th>\n",
       "      <td>...</td>\n",
       "      <td>...</td>\n",
       "      <td>...</td>\n",
       "      <td>...</td>\n",
       "    </tr>\n",
       "    <tr>\n",
       "      <th>195</th>\n",
       "      <td>38.2</td>\n",
       "      <td>3.7</td>\n",
       "      <td>13.8</td>\n",
       "      <td>7.6</td>\n",
       "    </tr>\n",
       "    <tr>\n",
       "      <th>196</th>\n",
       "      <td>94.2</td>\n",
       "      <td>4.9</td>\n",
       "      <td>8.1</td>\n",
       "      <td>9.7</td>\n",
       "    </tr>\n",
       "    <tr>\n",
       "      <th>197</th>\n",
       "      <td>177.0</td>\n",
       "      <td>9.3</td>\n",
       "      <td>6.4</td>\n",
       "      <td>12.8</td>\n",
       "    </tr>\n",
       "    <tr>\n",
       "      <th>198</th>\n",
       "      <td>283.6</td>\n",
       "      <td>42.0</td>\n",
       "      <td>66.2</td>\n",
       "      <td>25.5</td>\n",
       "    </tr>\n",
       "    <tr>\n",
       "      <th>199</th>\n",
       "      <td>232.1</td>\n",
       "      <td>8.6</td>\n",
       "      <td>8.7</td>\n",
       "      <td>13.4</td>\n",
       "    </tr>\n",
       "  </tbody>\n",
       "</table>\n",
       "<p>200 rows × 4 columns</p>\n",
       "</div>"
      ],
      "text/plain": [
       "        TV  radio  newspaper  sales\n",
       "0    230.1   37.8       69.2   22.1\n",
       "1     44.5   39.3       45.1   10.4\n",
       "2     17.2   45.9       69.3    9.3\n",
       "3    151.5   41.3       58.5   18.5\n",
       "4    180.8   10.8       58.4   12.9\n",
       "..     ...    ...        ...    ...\n",
       "195   38.2    3.7       13.8    7.6\n",
       "196   94.2    4.9        8.1    9.7\n",
       "197  177.0    9.3        6.4   12.8\n",
       "198  283.6   42.0       66.2   25.5\n",
       "199  232.1    8.6        8.7   13.4\n",
       "\n",
       "[200 rows x 4 columns]"
      ]
     },
     "execution_count": 2,
     "metadata": {},
     "output_type": "execute_result"
    }
   ],
   "source": [
    "df = pd.read_csv(\"Advertising.csv\")\n",
    "df"
   ]
  },
  {
   "cell_type": "markdown",
   "id": "854f7be2",
   "metadata": {
    "id": "854f7be2"
   },
   "source": [
    "independent variable = feature = estimator = attribute = input = explanatory variable\n",
    "\n",
    "dependent variable = target  = label = output = response variable\n",
    "\n",
    "rows = observation, sample\n",
    "\n",
    "**features** = TV + radio + newspaper\n",
    "\n",
    "**target** = sales"
   ]
  },
  {
   "cell_type": "code",
   "execution_count": 3,
   "id": "ff1d1282",
   "metadata": {
    "ExecuteTime": {
     "end_time": "2022-11-20T13:01:21.473575Z",
     "start_time": "2022-11-20T13:01:21.459620Z"
    },
    "id": "ff1d1282",
    "outputId": "165d4bae-4d60-4895-8064-c392f2750fc8"
   },
   "outputs": [
    {
     "name": "stdout",
     "output_type": "stream",
     "text": [
      "<class 'pandas.core.frame.DataFrame'>\n",
      "RangeIndex: 200 entries, 0 to 199\n",
      "Data columns (total 4 columns):\n",
      " #   Column     Non-Null Count  Dtype  \n",
      "---  ------     --------------  -----  \n",
      " 0   TV         200 non-null    float64\n",
      " 1   radio      200 non-null    float64\n",
      " 2   newspaper  200 non-null    float64\n",
      " 3   sales      200 non-null    float64\n",
      "dtypes: float64(4)\n",
      "memory usage: 6.4 KB\n"
     ]
    }
   ],
   "source": [
    "df.info()"
   ]
  },
  {
   "cell_type": "code",
   "execution_count": 4,
   "id": "0a619716",
   "metadata": {
    "ExecuteTime": {
     "end_time": "2022-11-20T13:01:21.489524Z",
     "start_time": "2022-11-20T13:01:21.474575Z"
    },
    "id": "0a619716",
    "outputId": "7de86ca1-8a1c-44c6-b8d4-a5124a2ab777"
   },
   "outputs": [
    {
     "data": {
      "text/html": [
       "<div>\n",
       "<style scoped>\n",
       "    .dataframe tbody tr th:only-of-type {\n",
       "        vertical-align: middle;\n",
       "    }\n",
       "\n",
       "    .dataframe tbody tr th {\n",
       "        vertical-align: top;\n",
       "    }\n",
       "\n",
       "    .dataframe thead th {\n",
       "        text-align: right;\n",
       "    }\n",
       "</style>\n",
       "<table border=\"1\" class=\"dataframe\">\n",
       "  <thead>\n",
       "    <tr style=\"text-align: right;\">\n",
       "      <th></th>\n",
       "      <th>TV</th>\n",
       "      <th>radio</th>\n",
       "      <th>newspaper</th>\n",
       "      <th>sales</th>\n",
       "    </tr>\n",
       "  </thead>\n",
       "  <tbody>\n",
       "    <tr>\n",
       "      <th>count</th>\n",
       "      <td>200.000000</td>\n",
       "      <td>200.000000</td>\n",
       "      <td>200.000000</td>\n",
       "      <td>200.000000</td>\n",
       "    </tr>\n",
       "    <tr>\n",
       "      <th>mean</th>\n",
       "      <td>147.042500</td>\n",
       "      <td>23.264000</td>\n",
       "      <td>30.554000</td>\n",
       "      <td>14.022500</td>\n",
       "    </tr>\n",
       "    <tr>\n",
       "      <th>std</th>\n",
       "      <td>85.854236</td>\n",
       "      <td>14.846809</td>\n",
       "      <td>21.778621</td>\n",
       "      <td>5.217457</td>\n",
       "    </tr>\n",
       "    <tr>\n",
       "      <th>min</th>\n",
       "      <td>0.700000</td>\n",
       "      <td>0.000000</td>\n",
       "      <td>0.300000</td>\n",
       "      <td>1.600000</td>\n",
       "    </tr>\n",
       "    <tr>\n",
       "      <th>25%</th>\n",
       "      <td>74.375000</td>\n",
       "      <td>9.975000</td>\n",
       "      <td>12.750000</td>\n",
       "      <td>10.375000</td>\n",
       "    </tr>\n",
       "    <tr>\n",
       "      <th>50%</th>\n",
       "      <td>149.750000</td>\n",
       "      <td>22.900000</td>\n",
       "      <td>25.750000</td>\n",
       "      <td>12.900000</td>\n",
       "    </tr>\n",
       "    <tr>\n",
       "      <th>75%</th>\n",
       "      <td>218.825000</td>\n",
       "      <td>36.525000</td>\n",
       "      <td>45.100000</td>\n",
       "      <td>17.400000</td>\n",
       "    </tr>\n",
       "    <tr>\n",
       "      <th>max</th>\n",
       "      <td>296.400000</td>\n",
       "      <td>49.600000</td>\n",
       "      <td>114.000000</td>\n",
       "      <td>27.000000</td>\n",
       "    </tr>\n",
       "  </tbody>\n",
       "</table>\n",
       "</div>"
      ],
      "text/plain": [
       "               TV       radio   newspaper       sales\n",
       "count  200.000000  200.000000  200.000000  200.000000\n",
       "mean   147.042500   23.264000   30.554000   14.022500\n",
       "std     85.854236   14.846809   21.778621    5.217457\n",
       "min      0.700000    0.000000    0.300000    1.600000\n",
       "25%     74.375000    9.975000   12.750000   10.375000\n",
       "50%    149.750000   22.900000   25.750000   12.900000\n",
       "75%    218.825000   36.525000   45.100000   17.400000\n",
       "max    296.400000   49.600000  114.000000   27.000000"
      ]
     },
     "execution_count": 4,
     "metadata": {},
     "output_type": "execute_result"
    }
   ],
   "source": [
    "df.describe() \n",
    "# std, meanden büyük veya meane yakın bir değerse datamızın genelinde bir outler problemi olduğuna dair bize çıkarım sağlar\n",
    "\n",
    "# \"min\" ile %25'lik ilk çeyrek arasında ve/veya %75'lik 3.çeyrek ile max arasında uçurum varsa datamızın genelinde \n",
    "# olmasa da sınırlı sayıda outlier değerler olabileceğine dair çıkarım sağlar"
   ]
  },
  {
   "cell_type": "code",
   "execution_count": 5,
   "id": "4b75f0c4",
   "metadata": {
    "ExecuteTime": {
     "end_time": "2022-11-20T13:01:21.505468Z",
     "start_time": "2022-11-20T13:01:21.490520Z"
    },
    "id": "4b75f0c4",
    "outputId": "8d979273-efa7-4341-b43f-de1820d4ec41"
   },
   "outputs": [
    {
     "name": "stdout",
     "output_type": "stream",
     "text": [
      "mean : 182.5\n",
      "std  : 125.77261228105267\n"
     ]
    }
   ],
   "source": [
    "# 4 öğesi bulunan bir listede 1 tane outlier değerin std ve mean değerlerini nasıl değiştirdiğini gözlemleyebiliyoruz\n",
    "print(\"mean :\", np.mean([100, 110, 120, 400]))\n",
    "print(\"std  :\", np.std([100, 110, 120, 400]))"
   ]
  },
  {
   "cell_type": "code",
   "execution_count": 6,
   "id": "a69afdfd",
   "metadata": {
    "ExecuteTime": {
     "end_time": "2022-11-20T13:01:21.521413Z",
     "start_time": "2022-11-20T13:01:21.506463Z"
    },
    "id": "a69afdfd",
    "outputId": "541829a0-b5e1-4deb-9167-fc94609834bb"
   },
   "outputs": [
    {
     "name": "stdout",
     "output_type": "stream",
     "text": [
      "mean : 257.5\n",
      "std  : 255.57533136044253\n"
     ]
    }
   ],
   "source": [
    "# outlier değerin std'yı mean'e yaklaştırıyor.\n",
    "print(\"mean :\", np.mean([100, 110, 120, 700]))\n",
    "print(\"std  :\", np.std([100, 110, 120, 700]))"
   ]
  },
  {
   "cell_type": "code",
   "execution_count": 7,
   "id": "e17f38d3",
   "metadata": {
    "ExecuteTime": {
     "end_time": "2022-11-20T13:01:21.537364Z",
     "start_time": "2022-11-20T13:01:21.522411Z"
    },
    "id": "e17f38d3",
    "outputId": "264bb723-e33e-4acb-e6ff-6bf1ef76a839"
   },
   "outputs": [
    {
     "name": "stdout",
     "output_type": "stream",
     "text": [
      "mean : 307.5\n",
      "std  : 342.153109002388\n"
     ]
    }
   ],
   "source": [
    "# outlier değer std'yı mean'den büyük yapıyor.\n",
    "print(\"mean :\", np.mean([100, 110, 120, 900]))\n",
    "print(\"std  :\", np.std([100, 110, 120, 900]))"
   ]
  },
  {
   "cell_type": "code",
   "execution_count": 8,
   "id": "d9eff2a4",
   "metadata": {
    "ExecuteTime": {
     "end_time": "2022-11-20T13:01:21.852401Z",
     "start_time": "2022-11-20T13:01:21.538358Z"
    },
    "id": "d9eff2a4",
    "outputId": "89a469d4-b1c9-447b-a8f3-78c1787bdec8"
   },
   "outputs": [
    {
     "data": {
      "text/plain": [
       "<AxesSubplot:xlabel='TV', ylabel='Count'>"
      ]
     },
     "execution_count": 8,
     "metadata": {},
     "output_type": "execute_result"
    },
    {
     "data": {
      "image/png": "[encoded data removed]",
      "text/plain": [
       "<Figure size 432x288 with 1 Axes>"
      ]
     },
     "metadata": {
      "needs_background": "light"
     },
     "output_type": "display_data"
    }
   ],
   "source": [
    "sns.histplot(df.TV, bins=50, kde=True)\n",
    "\n",
    "# Histplot ve boxplot ile outlier değerlerin olup olmadığı kontrol ediyoruz. "
   ]
  },
  {
   "cell_type": "code",
   "execution_count": 9,
   "id": "346539db",
   "metadata": {
    "ExecuteTime": {
     "end_time": "2022-11-20T13:01:21.914408Z",
     "start_time": "2022-11-20T13:01:21.853411Z"
    },
    "id": "346539db",
    "outputId": "21670935-078a-4409-a880-780b36eac6ac"
   },
   "outputs": [
    {
     "data": {
      "text/plain": [
       "<AxesSubplot:xlabel='TV'>"
      ]
     },
     "execution_count": 9,
     "metadata": {},
     "output_type": "execute_result"
    },
    {
     "data": {
      "image/png": "[encoded data removed]",
      "text/plain": [
       "<Figure size 432x288 with 1 Axes>"
      ]
     },
     "metadata": {
      "needs_background": "light"
     },
     "output_type": "display_data"
    }
   ],
   "source": [
    "sns.boxplot(df.TV)\n",
    "\n",
    "# Histplot ve boxplot ile outlier değerlerin olup olmadığı kontrol ediyoruz.\n",
    "\n",
    "# ML'de bir gözlem gerçek dünya verisi ise o gözleme outlier yaklaşımında bulunmuyoruz. ML'deki outlier yaklaşımı\n",
    "# elinizdeki outlier veriler eğitim için yeterli mi değil mi sorusuna cevap aramakla ifade edilir. Normal dağılımın çok\n",
    "# dışında kalmış veya boxplot whisker'larının dışında kalan değerlerin sayısı üzerinden outlier olup olmadıkları yorumlanır\n",
    "# Bu sayı az ise eğitim için yeterli veri yok denip outlier yaklaşımında bulunulabilir. "
   ]
  },
  {
   "cell_type": "markdown",
   "id": "spectacular-algebra",
   "metadata": {
    "id": "spectacular-algebra"
   },
   "source": [
    "## Create new independent variable (feature)"
   ]
  },
  {
   "cell_type": "code",
   "execution_count": 10,
   "id": "12cf01cb",
   "metadata": {
    "ExecuteTime": {
     "end_time": "2022-11-20T13:01:21.930357Z",
     "start_time": "2022-11-20T13:01:21.915358Z"
    },
    "id": "12cf01cb"
   },
   "outputs": [],
   "source": [
    "df[\"total_spend\"] = df[\"TV\"] + df[\"radio\"] + df[\"newspaper\"]\n",
    "# feature engineering yaparak başka gözlemlerden yeni bir gözlem elde ediyoruz."
   ]
  },
  {
   "cell_type": "code",
   "execution_count": 11,
   "id": "65bdf4dc",
   "metadata": {
    "ExecuteTime": {
     "end_time": "2022-11-20T13:01:21.946056Z",
     "start_time": "2022-11-20T13:01:21.931103Z"
    },
    "id": "65bdf4dc",
    "outputId": "8a1da6a8-dba3-4003-ade8-b4d1c7001d44"
   },
   "outputs": [
    {
     "data": {
      "text/html": [
       "<div>\n",
       "<style scoped>\n",
       "    .dataframe tbody tr th:only-of-type {\n",
       "        vertical-align: middle;\n",
       "    }\n",
       "\n",
       "    .dataframe tbody tr th {\n",
       "        vertical-align: top;\n",
       "    }\n",
       "\n",
       "    .dataframe thead th {\n",
       "        text-align: right;\n",
       "    }\n",
       "</style>\n",
       "<table border=\"1\" class=\"dataframe\">\n",
       "  <thead>\n",
       "    <tr style=\"text-align: right;\">\n",
       "      <th></th>\n",
       "      <th>TV</th>\n",
       "      <th>radio</th>\n",
       "      <th>newspaper</th>\n",
       "      <th>sales</th>\n",
       "      <th>total_spend</th>\n",
       "    </tr>\n",
       "  </thead>\n",
       "  <tbody>\n",
       "    <tr>\n",
       "      <th>0</th>\n",
       "      <td>230.1</td>\n",
       "      <td>37.8</td>\n",
       "      <td>69.2</td>\n",
       "      <td>22.1</td>\n",
       "      <td>337.1</td>\n",
       "    </tr>\n",
       "    <tr>\n",
       "      <th>1</th>\n",
       "      <td>44.5</td>\n",
       "      <td>39.3</td>\n",
       "      <td>45.1</td>\n",
       "      <td>10.4</td>\n",
       "      <td>128.9</td>\n",
       "    </tr>\n",
       "    <tr>\n",
       "      <th>2</th>\n",
       "      <td>17.2</td>\n",
       "      <td>45.9</td>\n",
       "      <td>69.3</td>\n",
       "      <td>9.3</td>\n",
       "      <td>132.4</td>\n",
       "    </tr>\n",
       "    <tr>\n",
       "      <th>3</th>\n",
       "      <td>151.5</td>\n",
       "      <td>41.3</td>\n",
       "      <td>58.5</td>\n",
       "      <td>18.5</td>\n",
       "      <td>251.3</td>\n",
       "    </tr>\n",
       "    <tr>\n",
       "      <th>4</th>\n",
       "      <td>180.8</td>\n",
       "      <td>10.8</td>\n",
       "      <td>58.4</td>\n",
       "      <td>12.9</td>\n",
       "      <td>250.0</td>\n",
       "    </tr>\n",
       "    <tr>\n",
       "      <th>...</th>\n",
       "      <td>...</td>\n",
       "      <td>...</td>\n",
       "      <td>...</td>\n",
       "      <td>...</td>\n",
       "      <td>...</td>\n",
       "    </tr>\n",
       "    <tr>\n",
       "      <th>195</th>\n",
       "      <td>38.2</td>\n",
       "      <td>3.7</td>\n",
       "      <td>13.8</td>\n",
       "      <td>7.6</td>\n",
       "      <td>55.7</td>\n",
       "    </tr>\n",
       "    <tr>\n",
       "      <th>196</th>\n",
       "      <td>94.2</td>\n",
       "      <td>4.9</td>\n",
       "      <td>8.1</td>\n",
       "      <td>9.7</td>\n",
       "      <td>107.2</td>\n",
       "    </tr>\n",
       "    <tr>\n",
       "      <th>197</th>\n",
       "      <td>177.0</td>\n",
       "      <td>9.3</td>\n",
       "      <td>6.4</td>\n",
       "      <td>12.8</td>\n",
       "      <td>192.7</td>\n",
       "    </tr>\n",
       "    <tr>\n",
       "      <th>198</th>\n",
       "      <td>283.6</td>\n",
       "      <td>42.0</td>\n",
       "      <td>66.2</td>\n",
       "      <td>25.5</td>\n",
       "      <td>391.8</td>\n",
       "    </tr>\n",
       "    <tr>\n",
       "      <th>199</th>\n",
       "      <td>232.1</td>\n",
       "      <td>8.6</td>\n",
       "      <td>8.7</td>\n",
       "      <td>13.4</td>\n",
       "      <td>249.4</td>\n",
       "    </tr>\n",
       "  </tbody>\n",
       "</table>\n",
       "<p>200 rows × 5 columns</p>\n",
       "</div>"
      ],
      "text/plain": [
       "        TV  radio  newspaper  sales  total_spend\n",
       "0    230.1   37.8       69.2   22.1        337.1\n",
       "1     44.5   39.3       45.1   10.4        128.9\n",
       "2     17.2   45.9       69.3    9.3        132.4\n",
       "3    151.5   41.3       58.5   18.5        251.3\n",
       "4    180.8   10.8       58.4   12.9        250.0\n",
       "..     ...    ...        ...    ...          ...\n",
       "195   38.2    3.7       13.8    7.6         55.7\n",
       "196   94.2    4.9        8.1    9.7        107.2\n",
       "197  177.0    9.3        6.4   12.8        192.7\n",
       "198  283.6   42.0       66.2   25.5        391.8\n",
       "199  232.1    8.6        8.7   13.4        249.4\n",
       "\n",
       "[200 rows x 5 columns]"
      ]
     },
     "execution_count": 11,
     "metadata": {},
     "output_type": "execute_result"
    }
   ],
   "source": [
    "df"
   ]
  },
  {
   "cell_type": "code",
   "execution_count": 12,
   "id": "51447e05",
   "metadata": {
    "ExecuteTime": {
     "end_time": "2022-11-20T13:01:21.962007Z",
     "start_time": "2022-11-20T13:01:21.948050Z"
    },
    "id": "51447e05",
    "outputId": "bb0f5691-b414-4cc4-c78e-a01942b6dd8b"
   },
   "outputs": [
    {
     "data": {
      "text/html": [
       "<div>\n",
       "<style scoped>\n",
       "    .dataframe tbody tr th:only-of-type {\n",
       "        vertical-align: middle;\n",
       "    }\n",
       "\n",
       "    .dataframe tbody tr th {\n",
       "        vertical-align: top;\n",
       "    }\n",
       "\n",
       "    .dataframe thead th {\n",
       "        text-align: right;\n",
       "    }\n",
       "</style>\n",
       "<table border=\"1\" class=\"dataframe\">\n",
       "  <thead>\n",
       "    <tr style=\"text-align: right;\">\n",
       "      <th></th>\n",
       "      <th>TV</th>\n",
       "      <th>radio</th>\n",
       "      <th>newspaper</th>\n",
       "      <th>total_spend</th>\n",
       "      <th>sales</th>\n",
       "    </tr>\n",
       "  </thead>\n",
       "  <tbody>\n",
       "    <tr>\n",
       "      <th>0</th>\n",
       "      <td>230.1</td>\n",
       "      <td>37.8</td>\n",
       "      <td>69.2</td>\n",
       "      <td>337.1</td>\n",
       "      <td>22.1</td>\n",
       "    </tr>\n",
       "    <tr>\n",
       "      <th>1</th>\n",
       "      <td>44.5</td>\n",
       "      <td>39.3</td>\n",
       "      <td>45.1</td>\n",
       "      <td>128.9</td>\n",
       "      <td>10.4</td>\n",
       "    </tr>\n",
       "    <tr>\n",
       "      <th>2</th>\n",
       "      <td>17.2</td>\n",
       "      <td>45.9</td>\n",
       "      <td>69.3</td>\n",
       "      <td>132.4</td>\n",
       "      <td>9.3</td>\n",
       "    </tr>\n",
       "    <tr>\n",
       "      <th>3</th>\n",
       "      <td>151.5</td>\n",
       "      <td>41.3</td>\n",
       "      <td>58.5</td>\n",
       "      <td>251.3</td>\n",
       "      <td>18.5</td>\n",
       "    </tr>\n",
       "    <tr>\n",
       "      <th>4</th>\n",
       "      <td>180.8</td>\n",
       "      <td>10.8</td>\n",
       "      <td>58.4</td>\n",
       "      <td>250.0</td>\n",
       "      <td>12.9</td>\n",
       "    </tr>\n",
       "  </tbody>\n",
       "</table>\n",
       "</div>"
      ],
      "text/plain": [
       "      TV  radio  newspaper  total_spend  sales\n",
       "0  230.1   37.8       69.2        337.1   22.1\n",
       "1   44.5   39.3       45.1        128.9   10.4\n",
       "2   17.2   45.9       69.3        132.4    9.3\n",
       "3  151.5   41.3       58.5        251.3   18.5\n",
       "4  180.8   10.8       58.4        250.0   12.9"
      ]
     },
     "execution_count": 12,
     "metadata": {},
     "output_type": "execute_result"
    }
   ],
   "source": [
    "df = df.iloc[:,[0,1,2,4,3]]\n",
    "df.head()\n",
    "\n",
    "# target'ımızı df'in sonuna konumlandırarak heatmap, pairplot gibi görsellerin okunuşu kolaylaştırıyoruz."
   ]
  },
  {
   "cell_type": "markdown",
   "id": "funky-joseph",
   "metadata": {
    "id": "funky-joseph"
   },
   "source": [
    "## Which feature is more suitable for linear regression?"
   ]
  },
  {
   "cell_type": "code",
   "execution_count": 13,
   "id": "96518e85",
   "metadata": {
    "ExecuteTime": {
     "end_time": "2022-11-20T13:01:21.978109Z",
     "start_time": "2022-11-20T13:01:21.962999Z"
    },
    "id": "96518e85",
    "outputId": "556e086c-f0e8-4015-d5d4-847daacd42f4"
   },
   "outputs": [
    {
     "data": {
      "text/plain": [
       "0.7822244248616061"
      ]
     },
     "execution_count": 13,
     "metadata": {},
     "output_type": "execute_result"
    }
   ],
   "source": [
    "df[\"sales\"].corr(df[\"TV\"])\n",
    "\n",
    "# simple linear regression'da feature ile target arasında anlamlı bir ilişki varsa bu data linear regression için uygundur"
   ]
  },
  {
   "cell_type": "code",
   "execution_count": 14,
   "id": "5bfaafef",
   "metadata": {
    "ExecuteTime": {
     "end_time": "2022-11-20T13:01:21.994127Z",
     "start_time": "2022-11-20T13:01:21.979038Z"
    },
    "id": "5bfaafef",
    "outputId": "643279d1-ecac-45e5-9c67-c99a78cd7730"
   },
   "outputs": [
    {
     "data": {
      "text/html": [
       "<div>\n",
       "<style scoped>\n",
       "    .dataframe tbody tr th:only-of-type {\n",
       "        vertical-align: middle;\n",
       "    }\n",
       "\n",
       "    .dataframe tbody tr th {\n",
       "        vertical-align: top;\n",
       "    }\n",
       "\n",
       "    .dataframe thead th {\n",
       "        text-align: right;\n",
       "    }\n",
       "</style>\n",
       "<table border=\"1\" class=\"dataframe\">\n",
       "  <thead>\n",
       "    <tr style=\"text-align: right;\">\n",
       "      <th></th>\n",
       "      <th>temperature</th>\n",
       "      <th>ice_cream_sale</th>\n",
       "    </tr>\n",
       "  </thead>\n",
       "  <tbody>\n",
       "    <tr>\n",
       "      <th>0</th>\n",
       "      <td>30</td>\n",
       "      <td>50</td>\n",
       "    </tr>\n",
       "    <tr>\n",
       "      <th>1</th>\n",
       "      <td>31</td>\n",
       "      <td>60</td>\n",
       "    </tr>\n",
       "    <tr>\n",
       "      <th>2</th>\n",
       "      <td>32</td>\n",
       "      <td>65</td>\n",
       "    </tr>\n",
       "    <tr>\n",
       "      <th>3</th>\n",
       "      <td>33</td>\n",
       "      <td>70</td>\n",
       "    </tr>\n",
       "    <tr>\n",
       "      <th>4</th>\n",
       "      <td>34</td>\n",
       "      <td>75</td>\n",
       "    </tr>\n",
       "    <tr>\n",
       "      <th>5</th>\n",
       "      <td>35</td>\n",
       "      <td>80</td>\n",
       "    </tr>\n",
       "  </tbody>\n",
       "</table>\n",
       "</div>"
      ],
      "text/plain": [
       "   temperature  ice_cream_sale\n",
       "0           30              50\n",
       "1           31              60\n",
       "2           32              65\n",
       "3           33              70\n",
       "4           34              75\n",
       "5           35              80"
      ]
     },
     "execution_count": 14,
     "metadata": {},
     "output_type": "execute_result"
    }
   ],
   "source": [
    "my_dict = {\"temperature\": [30, 31, 32, 33, 34, 35],\n",
    "           \"ice_cream_sale\": [50, 60, 65, 70, 75, 80]}\n",
    "df2 = pd.DataFrame(my_dict)\n",
    "df2"
   ]
  },
  {
   "cell_type": "code",
   "execution_count": 15,
   "id": "99c25555",
   "metadata": {
    "ExecuteTime": {
     "end_time": "2022-11-20T13:01:22.010064Z",
     "start_time": "2022-11-20T13:01:21.995066Z"
    },
    "id": "99c25555",
    "outputId": "cc88c09b-8e9e-4ece-fac1-59d91fde7c5c"
   },
   "outputs": [
    {
     "data": {
      "text/plain": [
       "0.989743318610787"
      ]
     },
     "execution_count": 15,
     "metadata": {},
     "output_type": "execute_result"
    }
   ],
   "source": [
    "df2.temperature.corr(df2.ice_cream_sale)\n",
    "\n",
    "# Korelasyon featurlar arasındaki ilişkiyi gösterir. Featurların birlikte azalıp/artma veya biri azalırken/artarken\n",
    "# diğerinin artıp/azaldığına dair bize çıkarım sağlar.\n",
    "\n",
    "# correlasyon yukardaki örnektede olduğu gibi hava sıcaklığındaki 1 derece artışın dondurma satışlarını ne kadar\n",
    "# etkilediğine (artırıp-azalttığına) dair bir çıkarım sağlamaz. Sadece hava sıcaklığı artarsa dondurma satışıda artar \n",
    "# bilgisi verir.\n",
    "\n",
    "# 1 derecelik veya daha fazla artışlar/azalışlar ile dondurma satışlarının ne kadar artacağına/azalacağına regression \n",
    "# cevap verir."
   ]
  },
  {
   "cell_type": "code",
   "execution_count": 16,
   "id": "d5d15bc2",
   "metadata": {
    "ExecuteTime": {
     "end_time": "2022-11-20T13:01:22.026015Z",
     "start_time": "2022-11-20T13:01:22.011061Z"
    },
    "id": "d5d15bc2",
    "outputId": "7cf2a396-6238-4610-8757-555571ef0eae"
   },
   "outputs": [
    {
     "data": {
      "text/html": [
       "<div>\n",
       "<style scoped>\n",
       "    .dataframe tbody tr th:only-of-type {\n",
       "        vertical-align: middle;\n",
       "    }\n",
       "\n",
       "    .dataframe tbody tr th {\n",
       "        vertical-align: top;\n",
       "    }\n",
       "\n",
       "    .dataframe thead th {\n",
       "        text-align: right;\n",
       "    }\n",
       "</style>\n",
       "<table border=\"1\" class=\"dataframe\">\n",
       "  <thead>\n",
       "    <tr style=\"text-align: right;\">\n",
       "      <th></th>\n",
       "      <th>temperature</th>\n",
       "      <th>ice_cream_sale</th>\n",
       "    </tr>\n",
       "  </thead>\n",
       "  <tbody>\n",
       "    <tr>\n",
       "      <th>0</th>\n",
       "      <td>30</td>\n",
       "      <td>50</td>\n",
       "    </tr>\n",
       "    <tr>\n",
       "      <th>1</th>\n",
       "      <td>31</td>\n",
       "      <td>51</td>\n",
       "    </tr>\n",
       "    <tr>\n",
       "      <th>2</th>\n",
       "      <td>32</td>\n",
       "      <td>53</td>\n",
       "    </tr>\n",
       "    <tr>\n",
       "      <th>3</th>\n",
       "      <td>33</td>\n",
       "      <td>54</td>\n",
       "    </tr>\n",
       "    <tr>\n",
       "      <th>4</th>\n",
       "      <td>34</td>\n",
       "      <td>55</td>\n",
       "    </tr>\n",
       "    <tr>\n",
       "      <th>5</th>\n",
       "      <td>35</td>\n",
       "      <td>56</td>\n",
       "    </tr>\n",
       "  </tbody>\n",
       "</table>\n",
       "</div>"
      ],
      "text/plain": [
       "   temperature  ice_cream_sale\n",
       "0           30              50\n",
       "1           31              51\n",
       "2           32              53\n",
       "3           33              54\n",
       "4           34              55\n",
       "5           35              56"
      ]
     },
     "execution_count": 16,
     "metadata": {},
     "output_type": "execute_result"
    }
   ],
   "source": [
    "my_dict = {\"temperature\": [30, 31, 32, 33, 34, 35],\n",
    "           \"ice_cream_sale\": [50, 51, 53, 54, 55, 56]}\n",
    "df2 = pd.DataFrame(my_dict)\n",
    "df2"
   ]
  },
  {
   "cell_type": "code",
   "execution_count": 17,
   "id": "cfdc90f3",
   "metadata": {
    "ExecuteTime": {
     "end_time": "2022-11-20T13:01:22.041961Z",
     "start_time": "2022-11-20T13:01:22.027007Z"
    },
    "id": "cfdc90f3",
    "outputId": "502ca29e-09d6-4903-a805-8a8dc5905d2d"
   },
   "outputs": [
    {
     "data": {
      "text/plain": [
       "0.9921609337929049"
      ]
     },
     "execution_count": 17,
     "metadata": {},
     "output_type": "execute_result"
    }
   ],
   "source": [
    "df2.temperature.corr(df2.ice_cream_sale)\n",
    "\n",
    "# yukardaki ilk df'te 1 derecelik artış dondurma satışlarını 5 kg artırıyorken corr=0.9821 çıktı.\n",
    "# 2. df'de 1 derecelik artış dondurma satışlarını 1 kg artırıyorken corr=0.99 çıktı.\n",
    "# gördüğünüz gibi 2 farklı senaryo içinde corr değerleri nerdeyse aynı çıktı"
   ]
  },
  {
   "cell_type": "code",
   "execution_count": 18,
   "id": "99cee90d",
   "metadata": {
    "ExecuteTime": {
     "end_time": "2022-11-20T13:01:22.057088Z",
     "start_time": "2022-11-20T13:01:22.042954Z"
    },
    "id": "99cee90d",
    "outputId": "6a2cef35-99ea-4080-ef4c-c1c7037e352f"
   },
   "outputs": [
    {
     "name": "stdout",
     "output_type": "stream",
     "text": [
      "corr between sales and TV          :  0.7822244248616061\n",
      "corr between sales and radio       :  0.5762225745710551\n",
      "corr between sales and newspaper   :  0.22829902637616528\n",
      "corr between sales and total_spend :  0.8677123027017427\n"
     ]
    }
   ],
   "source": [
    "for i in df.drop(columns =\"sales\"):\n",
    "    print(f\"corr between sales and {i:<12}:  {df.sales.corr(df[i])}\")\n",
    "    \n",
    "# Simple linear regression özelinde feature ile target arasında anlamlı-yüksek bir corr varsa bu data lnear regression \n",
    "# için daha uygundur. Burada hangi featuran simple linear regression için daha uygun olduğunu tespit ediyoruz."
   ]
  },
  {
   "cell_type": "code",
   "execution_count": 19,
   "id": "74dd544a",
   "metadata": {
    "ExecuteTime": {
     "end_time": "2022-11-20T13:01:23.873445Z",
     "start_time": "2022-11-20T13:01:22.058085Z"
    },
    "id": "74dd544a",
    "outputId": "9beb3bc9-6c7e-4bf2-8e50-d87ce8212371"
   },
   "outputs": [
    {
     "data": {
      "text/plain": [
       "<seaborn.axisgrid.PairGrid at 0x13a7c7ea520>"
      ]
     },
     "execution_count": 19,
     "metadata": {},
     "output_type": "execute_result"
    },
    {
     "data": {
      "image/png": "[encoded data removed]",
      "text/plain": [
       "<Figure size 900x900 with 30 Axes>"
      ]
     },
     "metadata": {
      "needs_background": "light"
     },
     "output_type": "display_data"
    }
   ],
   "source": [
    "sns.pairplot(df)\n",
    "#scatter plot üzerinden de en yüksek corr'un total spend ile spends arasında olduğu görülebiliyor.\n",
    "\n",
    "# target df'in en sonunda konumlandırılarak en alt satırda target ile featurlar arasındaki corr değerlendirmesi daha kolay\n",
    "# yapılabiliyor."
   ]
  },
  {
   "cell_type": "code",
   "execution_count": 20,
   "id": "fd3c4ce8",
   "metadata": {
    "ExecuteTime": {
     "end_time": "2022-11-20T13:01:23.889404Z",
     "start_time": "2022-11-20T13:01:23.874454Z"
    },
    "id": "fd3c4ce8",
    "outputId": "b21c17b2-b4f8-4d8c-8411-76d11ab97056"
   },
   "outputs": [
    {
     "data": {
      "text/html": [
       "<div>\n",
       "<style scoped>\n",
       "    .dataframe tbody tr th:only-of-type {\n",
       "        vertical-align: middle;\n",
       "    }\n",
       "\n",
       "    .dataframe tbody tr th {\n",
       "        vertical-align: top;\n",
       "    }\n",
       "\n",
       "    .dataframe thead th {\n",
       "        text-align: right;\n",
       "    }\n",
       "</style>\n",
       "<table border=\"1\" class=\"dataframe\">\n",
       "  <thead>\n",
       "    <tr style=\"text-align: right;\">\n",
       "      <th></th>\n",
       "      <th>TV</th>\n",
       "      <th>radio</th>\n",
       "      <th>newspaper</th>\n",
       "      <th>total_spend</th>\n",
       "      <th>sales</th>\n",
       "    </tr>\n",
       "  </thead>\n",
       "  <tbody>\n",
       "    <tr>\n",
       "      <th>TV</th>\n",
       "      <td>1.000000</td>\n",
       "      <td>0.054809</td>\n",
       "      <td>0.056648</td>\n",
       "      <td>0.945330</td>\n",
       "      <td>0.782224</td>\n",
       "    </tr>\n",
       "    <tr>\n",
       "      <th>radio</th>\n",
       "      <td>0.054809</td>\n",
       "      <td>1.000000</td>\n",
       "      <td>0.354104</td>\n",
       "      <td>0.293211</td>\n",
       "      <td>0.576223</td>\n",
       "    </tr>\n",
       "    <tr>\n",
       "      <th>newspaper</th>\n",
       "      <td>0.056648</td>\n",
       "      <td>0.354104</td>\n",
       "      <td>1.000000</td>\n",
       "      <td>0.343059</td>\n",
       "      <td>0.228299</td>\n",
       "    </tr>\n",
       "    <tr>\n",
       "      <th>total_spend</th>\n",
       "      <td>0.945330</td>\n",
       "      <td>0.293211</td>\n",
       "      <td>0.343059</td>\n",
       "      <td>1.000000</td>\n",
       "      <td>0.867712</td>\n",
       "    </tr>\n",
       "    <tr>\n",
       "      <th>sales</th>\n",
       "      <td>0.782224</td>\n",
       "      <td>0.576223</td>\n",
       "      <td>0.228299</td>\n",
       "      <td>0.867712</td>\n",
       "      <td>1.000000</td>\n",
       "    </tr>\n",
       "  </tbody>\n",
       "</table>\n",
       "</div>"
      ],
      "text/plain": [
       "                   TV     radio  newspaper  total_spend     sales\n",
       "TV           1.000000  0.054809   0.056648     0.945330  0.782224\n",
       "radio        0.054809  1.000000   0.354104     0.293211  0.576223\n",
       "newspaper    0.056648  0.354104   1.000000     0.343059  0.228299\n",
       "total_spend  0.945330  0.293211   0.343059     1.000000  0.867712\n",
       "sales        0.782224  0.576223   0.228299     0.867712  1.000000"
      ]
     },
     "execution_count": 20,
     "metadata": {},
     "output_type": "execute_result"
    }
   ],
   "source": [
    "df.corr()"
   ]
  },
  {
   "cell_type": "code",
   "execution_count": 21,
   "id": "01a397ec",
   "metadata": {
    "ExecuteTime": {
     "end_time": "2022-11-20T13:01:24.014786Z",
     "start_time": "2022-11-20T13:01:23.889885Z"
    },
    "id": "01a397ec",
    "outputId": "e46aca81-df53-4cee-8791-5b29d1e1aded"
   },
   "outputs": [
    {
     "data": {
      "text/plain": [
       "<AxesSubplot:>"
      ]
     },
     "execution_count": 21,
     "metadata": {},
     "output_type": "execute_result"
    },
    {
     "data": {
      "image/png": "[encoded data removed]",
      "text/plain": [
       "<Figure size 432x288 with 2 Axes>"
      ]
     },
     "metadata": {
      "needs_background": "light"
     },
     "output_type": "display_data"
    }
   ],
   "source": [
    "sns.heatmap(df.corr(), annot=True)\n",
    "\n",
    "# target df'in en sonunda konumlandırılarak en alt satırda target ile featurlar arasındaki corr değerlendirmesi daha kolay\n",
    "# yapılabiliyor."
   ]
  },
  {
   "cell_type": "code",
   "execution_count": 22,
   "id": "8446311e",
   "metadata": {
    "ExecuteTime": {
     "end_time": "2022-11-20T13:01:24.029737Z",
     "start_time": "2022-11-20T13:01:24.015782Z"
    },
    "id": "8446311e",
    "outputId": "624a77ed-bd63-43d4-fdb9-299a6387c1ed"
   },
   "outputs": [
    {
     "data": {
      "text/html": [
       "<div>\n",
       "<style scoped>\n",
       "    .dataframe tbody tr th:only-of-type {\n",
       "        vertical-align: middle;\n",
       "    }\n",
       "\n",
       "    .dataframe tbody tr th {\n",
       "        vertical-align: top;\n",
       "    }\n",
       "\n",
       "    .dataframe thead th {\n",
       "        text-align: right;\n",
       "    }\n",
       "</style>\n",
       "<table border=\"1\" class=\"dataframe\">\n",
       "  <thead>\n",
       "    <tr style=\"text-align: right;\">\n",
       "      <th></th>\n",
       "      <th>total_spend</th>\n",
       "      <th>sales</th>\n",
       "    </tr>\n",
       "  </thead>\n",
       "  <tbody>\n",
       "    <tr>\n",
       "      <th>0</th>\n",
       "      <td>337.1</td>\n",
       "      <td>22.1</td>\n",
       "    </tr>\n",
       "    <tr>\n",
       "      <th>1</th>\n",
       "      <td>128.9</td>\n",
       "      <td>10.4</td>\n",
       "    </tr>\n",
       "    <tr>\n",
       "      <th>2</th>\n",
       "      <td>132.4</td>\n",
       "      <td>9.3</td>\n",
       "    </tr>\n",
       "    <tr>\n",
       "      <th>3</th>\n",
       "      <td>251.3</td>\n",
       "      <td>18.5</td>\n",
       "    </tr>\n",
       "    <tr>\n",
       "      <th>4</th>\n",
       "      <td>250.0</td>\n",
       "      <td>12.9</td>\n",
       "    </tr>\n",
       "    <tr>\n",
       "      <th>...</th>\n",
       "      <td>...</td>\n",
       "      <td>...</td>\n",
       "    </tr>\n",
       "    <tr>\n",
       "      <th>195</th>\n",
       "      <td>55.7</td>\n",
       "      <td>7.6</td>\n",
       "    </tr>\n",
       "    <tr>\n",
       "      <th>196</th>\n",
       "      <td>107.2</td>\n",
       "      <td>9.7</td>\n",
       "    </tr>\n",
       "    <tr>\n",
       "      <th>197</th>\n",
       "      <td>192.7</td>\n",
       "      <td>12.8</td>\n",
       "    </tr>\n",
       "    <tr>\n",
       "      <th>198</th>\n",
       "      <td>391.8</td>\n",
       "      <td>25.5</td>\n",
       "    </tr>\n",
       "    <tr>\n",
       "      <th>199</th>\n",
       "      <td>249.4</td>\n",
       "      <td>13.4</td>\n",
       "    </tr>\n",
       "  </tbody>\n",
       "</table>\n",
       "<p>200 rows × 2 columns</p>\n",
       "</div>"
      ],
      "text/plain": [
       "     total_spend  sales\n",
       "0          337.1   22.1\n",
       "1          128.9   10.4\n",
       "2          132.4    9.3\n",
       "3          251.3   18.5\n",
       "4          250.0   12.9\n",
       "..           ...    ...\n",
       "195         55.7    7.6\n",
       "196        107.2    9.7\n",
       "197        192.7   12.8\n",
       "198        391.8   25.5\n",
       "199        249.4   13.4\n",
       "\n",
       "[200 rows x 2 columns]"
      ]
     },
     "execution_count": 22,
     "metadata": {},
     "output_type": "execute_result"
    }
   ],
   "source": [
    "df = df[[\"total_spend\", \"sales\"]]\n",
    "df\n",
    "\n",
    "# Target ile en anlamlı corr total spend arasında olduğundan total spend'in simple linear regression için daha uygun olduğu\n",
    "# tespit ettik. Bu kapsamda yeni df'mimizi total spend ve sales ile yeniden kuruyoruz."
   ]
  },
  {
   "cell_type": "markdown",
   "id": "regulation-steering",
   "metadata": {
    "id": "regulation-steering"
   },
   "source": [
    "## Plotting the relationship between independent variable and dependent variable "
   ]
  },
  {
   "cell_type": "code",
   "execution_count": 23,
   "id": "59729188",
   "metadata": {
    "ExecuteTime": {
     "end_time": "2022-11-20T13:01:24.109099Z",
     "start_time": "2022-11-20T13:01:24.030732Z"
    },
    "id": "59729188",
    "outputId": "35f094b9-1def-4cb6-9b5a-4dea1808d093"
   },
   "outputs": [
    {
     "data": {
      "text/plain": [
       "<AxesSubplot:xlabel='total_spend', ylabel='sales'>"
      ]
     },
     "execution_count": 23,
     "metadata": {},
     "output_type": "execute_result"
    },
    {
     "data": {
      "image/png": "[encoded data removed]",
      "text/plain": [
       "<Figure size 432x288 with 1 Axes>"
      ]
     },
     "metadata": {
      "needs_background": "light"
     },
     "output_type": "display_data"
    }
   ],
   "source": [
    "sns.scatterplot(x =\"total_spend\", y = \"sales\", data=df)\n",
    "\n",
    "# scatter plot anlamlı bir corr olduğunu görüyoruz."
   ]
  },
  {
   "cell_type": "markdown",
   "id": "operational-target",
   "metadata": {
    "id": "operational-target"
   },
   "source": [
    "## Correlation between independent variable and dependent variable"
   ]
  },
  {
   "cell_type": "code",
   "execution_count": 24,
   "id": "cbd5256d",
   "metadata": {
    "ExecuteTime": {
     "end_time": "2022-11-20T13:01:24.124057Z",
     "start_time": "2022-11-20T13:01:24.110100Z"
    },
    "id": "cbd5256d",
    "outputId": "6f9f9691-4e76-43fe-a102-7ad2e7364576"
   },
   "outputs": [
    {
     "data": {
      "text/plain": [
       "0.8677123027017427"
      ]
     },
     "execution_count": 24,
     "metadata": {},
     "output_type": "execute_result"
    }
   ],
   "source": [
    "corr = df[\"sales\"].corr(df[\"total_spend\"])\n",
    "corr"
   ]
  },
  {
   "cell_type": "code",
   "execution_count": 25,
   "id": "d0c4362f",
   "metadata": {
    "ExecuteTime": {
     "end_time": "2022-11-20T13:01:24.140000Z",
     "start_time": "2022-11-20T13:01:24.125050Z"
    },
    "id": "d0c4362f",
    "outputId": "fcfae7cd-8b0e-47df-cd53-856e6cd3d58a"
   },
   "outputs": [
    {
     "data": {
      "text/plain": [
       "0.8677123027017427"
      ]
     },
     "execution_count": 25,
     "metadata": {},
     "output_type": "execute_result"
    }
   ],
   "source": [
    "df[\"total_spend\"].corr(df[\"sales\"])"
   ]
  },
  {
   "cell_type": "markdown",
   "id": "adolescent-mongolia",
   "metadata": {
    "id": "adolescent-mongolia"
   },
   "source": [
    "## Coefficient of determination (R2)"
   ]
  },
  {
   "cell_type": "code",
   "execution_count": 26,
   "id": "1af28a7c",
   "metadata": {
    "ExecuteTime": {
     "end_time": "2022-11-20T13:01:24.155947Z",
     "start_time": "2022-11-20T13:01:24.140997Z"
    },
    "id": "1af28a7c",
    "outputId": "91b22249-bb32-4eb8-fc2b-d0684931b982"
   },
   "outputs": [
    {
     "data": {
      "text/plain": [
       "0.7529246402599608"
      ]
     },
     "execution_count": 26,
     "metadata": {},
     "output_type": "execute_result"
    }
   ],
   "source": [
    "R2_score = corr**2\n",
    "R2_score\n",
    "\n",
    "# R2_score, elimizdeki mevcut featurlar ile targettaki değişimin ne kadarını açıklayabiliyorum.\n",
    "# Veya targetı doğru tahmin edebilmek için gerekli olan bilginin ne kadarına sahibim sorularına cevap verir.\n",
    "\n",
    "\n",
    "# Aşağıdaki örnekte 2+1 ev ile 3+1 ev arasındaki 10 bin USD'lik fiyat farkının sadece 3 bin USD'si oda sayısından \n",
    "# kaynaklanıyorsa oda sayısı featurenın bize sağladığı bilgi %30'dur. Eğer evin cephe, kat, ısınma sistemi, bina yaşı, \n",
    "# metro/otobüs duraklarına, merkeze yakınlık vb. gibi bilgileri de biliyor olsaydık bu oran daha da artacak ve ev fiyatını\n",
    "# daha doğru bir şekilde tahmin edebilecektik."
   ]
  },
  {
   "cell_type": "markdown",
   "id": "046a6777",
   "metadata": {
    "id": "046a6777"
   },
   "source": [
    "A house price ----> 50.000 USD\n",
    "\n",
    "B house price ----> 60.000 USD\n",
    "\n",
    "\n",
    "A house ----> 2+1\n",
    "\n",
    "B house ----> 3+1\n",
    "\n",
    "\n",
    "If 3,000 USD of the variation in house prices is due to the number of rooms in the houses, what is the Coefficient of determination (R2) of the number of rooms?\n",
    "\n",
    "### R2_score for the number of rooms in the houses\n",
    "\n",
    "r2_score = 3000 / (60000-50000)\n",
    "\n",
    "r2_score = 0.3"
   ]
  },
  {
   "cell_type": "markdown",
   "id": "4ad2afd7",
   "metadata": {
    "id": "4ad2afd7"
   },
   "source": [
    "## Linear Regression"
   ]
  },
  {
   "cell_type": "code",
   "execution_count": 27,
   "id": "8d827e55",
   "metadata": {
    "ExecuteTime": {
     "end_time": "2022-11-20T13:01:24.251628Z",
     "start_time": "2022-11-20T13:01:24.156945Z"
    },
    "id": "8d827e55",
    "outputId": "604289d6-6ac8-4028-c62f-700ffea21520"
   },
   "outputs": [
    {
     "data": {
      "text/plain": [
       "<AxesSubplot:xlabel='total_spend', ylabel='sales'>"
      ]
     },
     "execution_count": 27,
     "metadata": {},
     "output_type": "execute_result"
    },
    {
     "data": {
      "image/png": "[encoded data removed]",
      "text/plain": [
       "<Figure size 432x288 with 1 Axes>"
      ]
     },
     "metadata": {
      "needs_background": "light"
     },
     "output_type": "display_data"
    }
   ],
   "source": [
    "sns.regplot(x=\"total_spend\", y=\"sales\", data=df, ci=None)\n",
    "\n",
    "# seabornun regressionplotunu kullanarak bu data için best linemızı çiziyoruz.\n",
    "\n",
    "# y_pred üzerinden best line aşağıda çiz"
   ]
  },
  {
   "cell_type": "markdown",
   "id": "perfect-setting",
   "metadata": {
    "id": "perfect-setting"
   },
   "source": [
    "## Splitting the dataset into X(independent variables) and y (dependent variable)"
   ]
  },
  {
   "cell_type": "code",
   "execution_count": 28,
   "id": "textile-scholar",
   "metadata": {
    "ExecuteTime": {
     "end_time": "2022-11-20T13:01:24.267577Z",
     "start_time": "2022-11-20T13:01:24.253620Z"
    },
    "id": "textile-scholar"
   },
   "outputs": [],
   "source": [
    "# y_pred = b1X + b0"
   ]
  },
  {
   "cell_type": "code",
   "execution_count": 29,
   "id": "98c65e5c",
   "metadata": {
    "ExecuteTime": {
     "end_time": "2022-11-20T13:01:24.283524Z",
     "start_time": "2022-11-20T13:01:24.268580Z"
    },
    "id": "98c65e5c"
   },
   "outputs": [],
   "source": [
    "X = df[\"total_spend\"]\n",
    "y = df[\"sales\"]"
   ]
  },
  {
   "cell_type": "markdown",
   "id": "printable-exhaust",
   "metadata": {
    "id": "printable-exhaust"
   },
   "source": [
    "## Determination of coefficients (slope and intercept)"
   ]
  },
  {
   "cell_type": "code",
   "execution_count": 30,
   "id": "df76ffe5",
   "metadata": {
    "ExecuteTime": {
     "end_time": "2022-11-20T13:01:24.299467Z",
     "start_time": "2022-11-20T13:01:24.284517Z"
    },
    "id": "df76ffe5",
    "outputId": "bed3a432-2f6e-4403-e86c-5761e09d163e"
   },
   "outputs": [
    {
     "data": {
      "text/plain": [
       "array([0.04868788, 4.24302822])"
      ]
     },
     "execution_count": 30,
     "metadata": {},
     "output_type": "execute_result"
    }
   ],
   "source": [
    "np.polyfit(X, y, deg=1)\n",
    "\n",
    "# numpy kütüphanesinden polyfit fonksiyonunu kullanarak featurların katsayılarını tespit ediyoruz.\n",
    "# polinomial regressionun 1. derecesi linear regression olduğunda degree=1 seçiyoruz"
   ]
  },
  {
   "cell_type": "code",
   "execution_count": 31,
   "id": "e2f056d7",
   "metadata": {
    "ExecuteTime": {
     "end_time": "2022-11-20T13:01:24.315413Z",
     "start_time": "2022-11-20T13:01:24.300464Z"
    },
    "id": "e2f056d7"
   },
   "outputs": [],
   "source": [
    "slope, intercept = np.polyfit(X, y, deg=1)\n",
    "\n",
    "# slope feature katsayısı\n",
    "# intercept X=0 iken y'nin aldığı değeri gösterir."
   ]
  },
  {
   "cell_type": "code",
   "execution_count": 32,
   "id": "08d0bd02",
   "metadata": {
    "ExecuteTime": {
     "end_time": "2022-11-20T13:01:24.331359Z",
     "start_time": "2022-11-20T13:01:24.316411Z"
    },
    "id": "08d0bd02",
    "outputId": "07b5627f-c3cf-48a5-efa7-84da2379a14f"
   },
   "outputs": [
    {
     "name": "stdout",
     "output_type": "stream",
     "text": [
      "slope    : 0.04868787931904818\n",
      "intercept: 4.243028216036326\n"
     ]
    }
   ],
   "source": [
    "print(\"slope    :\", slope)\n",
    "print(\"intercept:\", intercept)"
   ]
  },
  {
   "cell_type": "markdown",
   "id": "environmental-platform",
   "metadata": {
    "id": "environmental-platform"
   },
   "source": [
    "## Why do we use the least squares error method to find the regression line that best fits the data?"
   ]
  },
  {
   "cell_type": "code",
   "execution_count": 33,
   "id": "d4ae8d15",
   "metadata": {
    "ExecuteTime": {
     "end_time": "2022-11-20T13:01:24.347308Z",
     "start_time": "2022-11-20T13:01:24.332356Z"
    },
    "id": "d4ae8d15"
   },
   "outputs": [],
   "source": [
    "b1, b0 = np.polyfit(X, y, deg=1)\n",
    "\n",
    "# b1 = slope, b0= intercept"
   ]
  },
  {
   "cell_type": "code",
   "execution_count": 34,
   "id": "13ad0edb",
   "metadata": {
    "ExecuteTime": {
     "end_time": "2022-11-20T13:01:24.363253Z",
     "start_time": "2022-11-20T13:01:24.348303Z"
    },
    "id": "13ad0edb",
    "outputId": "49daeb56-8cad-49c1-c549-11120ed53e0e"
   },
   "outputs": [
    {
     "name": "stdout",
     "output_type": "stream",
     "text": [
      "b1 : 0.04868787931904818\n",
      "b0 : 4.243028216036326\n"
     ]
    }
   ],
   "source": [
    "print(\"b1 :\", b1)\n",
    "print(\"b0 :\", b0)"
   ]
  },
  {
   "cell_type": "code",
   "execution_count": 35,
   "id": "d1ce92f3",
   "metadata": {
    "ExecuteTime": {
     "end_time": "2022-11-20T13:01:24.379205Z",
     "start_time": "2022-11-20T13:01:24.364249Z"
    },
    "id": "d1ce92f3",
    "outputId": "ed33f011-4829-4b36-c3ec-24748db7bffa"
   },
   "outputs": [
    {
     "data": {
      "text/plain": [
       "0      337.1\n",
       "1      128.9\n",
       "2      132.4\n",
       "3      251.3\n",
       "4      250.0\n",
       "       ...  \n",
       "195     55.7\n",
       "196    107.2\n",
       "197    192.7\n",
       "198    391.8\n",
       "199    249.4\n",
       "Name: total_spend, Length: 200, dtype: float64"
      ]
     },
     "execution_count": 35,
     "metadata": {},
     "output_type": "execute_result"
    }
   ],
   "source": [
    "X"
   ]
  },
  {
   "cell_type": "code",
   "execution_count": 36,
   "id": "metropolitan-stretch",
   "metadata": {
    "ExecuteTime": {
     "end_time": "2022-11-20T13:01:24.395150Z",
     "start_time": "2022-11-20T13:01:24.380196Z"
    },
    "id": "metropolitan-stretch"
   },
   "outputs": [],
   "source": [
    "y_pred = b1*X + b0"
   ]
  },
  {
   "cell_type": "code",
   "execution_count": 37,
   "id": "671a2e99",
   "metadata": {
    "ExecuteTime": {
     "end_time": "2022-11-20T13:01:24.411094Z",
     "start_time": "2022-11-20T13:01:24.396143Z"
    },
    "id": "671a2e99",
    "outputId": "9fca5ac8-b0bf-42a2-cb99-b11a7c69ce6f"
   },
   "outputs": [
    {
     "data": {
      "text/html": [
       "<div>\n",
       "<style scoped>\n",
       "    .dataframe tbody tr th:only-of-type {\n",
       "        vertical-align: middle;\n",
       "    }\n",
       "\n",
       "    .dataframe tbody tr th {\n",
       "        vertical-align: top;\n",
       "    }\n",
       "\n",
       "    .dataframe thead th {\n",
       "        text-align: right;\n",
       "    }\n",
       "</style>\n",
       "<table border=\"1\" class=\"dataframe\">\n",
       "  <thead>\n",
       "    <tr style=\"text-align: right;\">\n",
       "      <th></th>\n",
       "      <th>actual</th>\n",
       "      <th>predicted</th>\n",
       "      <th>residual</th>\n",
       "      <th>LSE</th>\n",
       "      <th>ABS</th>\n",
       "    </tr>\n",
       "  </thead>\n",
       "  <tbody>\n",
       "    <tr>\n",
       "      <th>0</th>\n",
       "      <td>22.1</td>\n",
       "      <td>20.655712</td>\n",
       "      <td>1.444288</td>\n",
       "      <td>2.085967</td>\n",
       "      <td>1.444288</td>\n",
       "    </tr>\n",
       "    <tr>\n",
       "      <th>1</th>\n",
       "      <td>10.4</td>\n",
       "      <td>10.518896</td>\n",
       "      <td>-0.118896</td>\n",
       "      <td>0.014136</td>\n",
       "      <td>0.118896</td>\n",
       "    </tr>\n",
       "    <tr>\n",
       "      <th>2</th>\n",
       "      <td>9.3</td>\n",
       "      <td>10.689303</td>\n",
       "      <td>-1.389303</td>\n",
       "      <td>1.930164</td>\n",
       "      <td>1.389303</td>\n",
       "    </tr>\n",
       "    <tr>\n",
       "      <th>3</th>\n",
       "      <td>18.5</td>\n",
       "      <td>16.478292</td>\n",
       "      <td>2.021708</td>\n",
       "      <td>4.087302</td>\n",
       "      <td>2.021708</td>\n",
       "    </tr>\n",
       "    <tr>\n",
       "      <th>4</th>\n",
       "      <td>12.9</td>\n",
       "      <td>16.414998</td>\n",
       "      <td>-3.514998</td>\n",
       "      <td>12.355211</td>\n",
       "      <td>3.514998</td>\n",
       "    </tr>\n",
       "    <tr>\n",
       "      <th>...</th>\n",
       "      <td>...</td>\n",
       "      <td>...</td>\n",
       "      <td>...</td>\n",
       "      <td>...</td>\n",
       "      <td>...</td>\n",
       "    </tr>\n",
       "    <tr>\n",
       "      <th>195</th>\n",
       "      <td>7.6</td>\n",
       "      <td>6.954943</td>\n",
       "      <td>0.645057</td>\n",
       "      <td>0.416098</td>\n",
       "      <td>0.645057</td>\n",
       "    </tr>\n",
       "    <tr>\n",
       "      <th>196</th>\n",
       "      <td>9.7</td>\n",
       "      <td>9.462369</td>\n",
       "      <td>0.237631</td>\n",
       "      <td>0.056469</td>\n",
       "      <td>0.237631</td>\n",
       "    </tr>\n",
       "    <tr>\n",
       "      <th>197</th>\n",
       "      <td>12.8</td>\n",
       "      <td>13.625183</td>\n",
       "      <td>-0.825183</td>\n",
       "      <td>0.680926</td>\n",
       "      <td>0.825183</td>\n",
       "    </tr>\n",
       "    <tr>\n",
       "      <th>198</th>\n",
       "      <td>25.5</td>\n",
       "      <td>23.318939</td>\n",
       "      <td>2.181061</td>\n",
       "      <td>4.757026</td>\n",
       "      <td>2.181061</td>\n",
       "    </tr>\n",
       "    <tr>\n",
       "      <th>199</th>\n",
       "      <td>13.4</td>\n",
       "      <td>16.385785</td>\n",
       "      <td>-2.985785</td>\n",
       "      <td>8.914914</td>\n",
       "      <td>2.985785</td>\n",
       "    </tr>\n",
       "  </tbody>\n",
       "</table>\n",
       "<p>200 rows × 5 columns</p>\n",
       "</div>"
      ],
      "text/plain": [
       "     actual  predicted  residual        LSE       ABS\n",
       "0      22.1  20.655712  1.444288   2.085967  1.444288\n",
       "1      10.4  10.518896 -0.118896   0.014136  0.118896\n",
       "2       9.3  10.689303 -1.389303   1.930164  1.389303\n",
       "3      18.5  16.478292  2.021708   4.087302  2.021708\n",
       "4      12.9  16.414998 -3.514998  12.355211  3.514998\n",
       "..      ...        ...       ...        ...       ...\n",
       "195     7.6   6.954943  0.645057   0.416098  0.645057\n",
       "196     9.7   9.462369  0.237631   0.056469  0.237631\n",
       "197    12.8  13.625183 -0.825183   0.680926  0.825183\n",
       "198    25.5  23.318939  2.181061   4.757026  2.181061\n",
       "199    13.4  16.385785 -2.985785   8.914914  2.985785\n",
       "\n",
       "[200 rows x 5 columns]"
      ]
     },
     "execution_count": 37,
     "metadata": {},
     "output_type": "execute_result"
    }
   ],
   "source": [
    "values = {\"actual\": y, \"predicted\": y_pred, \"residual\":y-y_pred, \"LSE\": (y-y_pred)**2, \"ABS\":abs(y-y_pred)}\n",
    "df_2 = pd.DataFrame(values)\n",
    "df_2\n",
    "\n",
    "# gerçek değerleri, tahmin edilen değerleri, ve residualler ile residual üzerinden hesaplanan error metriclerinin\n",
    "# hesaplanmasında kullanılan LSE ve ABS değerlerini aynı df'de görüntülüyoruz.\n",
    "\n",
    "# LSE residuallerin karesini aldığından yapılan kötü tahminleri cezalandırıken ABS mutlak değerlerini aldığından \n",
    "# cezalandırma yapmaz.\n",
    "\n",
    "# Residuallerin karesini alıp gözlem sayısına böldüğümüzde gözlem bazında ortalama yapılan hatanın karesini verir.\n",
    "# Yapılan kötü tahminleri cezalandırdığından LSE üzerinden elde edilen metricler yorumlamada çokca tercih edilir.\n",
    "# Modelin kötü tahminler yaptığına dair bize insightler verir.\n",
    "\n",
    "# Residuallerin mutlak değerini alıp gözlem sayısına böldüğümüzde gözlem bazında ortalama yapılan hatanın mutlak değerini\n",
    "# verir. Yapılan kötü tahminleri cezalandırmadığından ABS üzerinden elde edilen metricler yorumlamada çok tercih edilmez.\n",
    "\n",
    "# ABS üzerinden elde ettiğimiz metric ile LSE üzerinden elde ettiğimiz metric arasında uçurum varsa modelin çok kötü\n",
    "# tahminler yaptığını anlaya biliriz. \n",
    "\n",
    "# Bunların detayına  multiple linear regressionda değineceğiz\n",
    "\n"
   ]
  },
  {
   "cell_type": "code",
   "execution_count": 38,
   "id": "0e1e1340",
   "metadata": {
    "ExecuteTime": {
     "end_time": "2022-11-20T13:01:24.426044Z",
     "start_time": "2022-11-20T13:01:24.412091Z"
    },
    "id": "0e1e1340",
    "outputId": "e1c944f7-20bf-441e-b3ca-62844bdccbb6"
   },
   "outputs": [
    {
     "data": {
      "text/plain": [
       "-0.0"
      ]
     },
     "execution_count": 38,
     "metadata": {},
     "output_type": "execute_result"
    }
   ],
   "source": [
    "df_2.residual.sum().round()\n",
    "\n",
    "# Elde ettiğimiz best fit line sonrası yaptığımız tahminler ile gerçek değerler arasındaki farkların (residullerin) toplamı\n",
    "# herzaman 0 olur."
   ]
  },
  {
   "cell_type": "markdown",
   "id": "steady-desktop",
   "metadata": {
    "id": "steady-desktop"
   },
   "source": [
    "## Prediction with simple linear regression"
   ]
  },
  {
   "cell_type": "code",
   "execution_count": 39,
   "id": "36671360",
   "metadata": {
    "ExecuteTime": {
     "end_time": "2022-11-20T13:01:24.505776Z",
     "start_time": "2022-11-20T13:01:24.498800Z"
    },
    "id": "36671360",
    "outputId": "8f7afe85-4f15-4c85-c087-729c5c8622fe"
   },
   "outputs": [
    {
     "data": {
      "text/plain": [
       "array([  0.        ,   5.05050505,  10.1010101 ,  15.15151515,\n",
       "        20.2020202 ,  25.25252525,  30.3030303 ,  35.35353535,\n",
       "        40.4040404 ,  45.45454545,  50.50505051,  55.55555556,\n",
       "        60.60606061,  65.65656566,  70.70707071,  75.75757576,\n",
       "        80.80808081,  85.85858586,  90.90909091,  95.95959596,\n",
       "       101.01010101, 106.06060606, 111.11111111, 116.16161616,\n",
       "       121.21212121, 126.26262626, 131.31313131, 136.36363636,\n",
       "       141.41414141, 146.46464646, 151.51515152, 156.56565657,\n",
       "       161.61616162, 166.66666667, 171.71717172, 176.76767677,\n",
       "       181.81818182, 186.86868687, 191.91919192, 196.96969697,\n",
       "       202.02020202, 207.07070707, 212.12121212, 217.17171717,\n",
       "       222.22222222, 227.27272727, 232.32323232, 237.37373737,\n",
       "       242.42424242, 247.47474747, 252.52525253, 257.57575758,\n",
       "       262.62626263, 267.67676768, 272.72727273, 277.77777778,\n",
       "       282.82828283, 287.87878788, 292.92929293, 297.97979798,\n",
       "       303.03030303, 308.08080808, 313.13131313, 318.18181818,\n",
       "       323.23232323, 328.28282828, 333.33333333, 338.38383838,\n",
       "       343.43434343, 348.48484848, 353.53535354, 358.58585859,\n",
       "       363.63636364, 368.68686869, 373.73737374, 378.78787879,\n",
       "       383.83838384, 388.88888889, 393.93939394, 398.98989899,\n",
       "       404.04040404, 409.09090909, 414.14141414, 419.19191919,\n",
       "       424.24242424, 429.29292929, 434.34343434, 439.39393939,\n",
       "       444.44444444, 449.49494949, 454.54545455, 459.5959596 ,\n",
       "       464.64646465, 469.6969697 , 474.74747475, 479.7979798 ,\n",
       "       484.84848485, 489.8989899 , 494.94949495, 500.        ])"
      ]
     },
     "execution_count": 39,
     "metadata": {},
     "output_type": "execute_result"
    }
   ],
   "source": [
    "potential_spend = np.linspace(0, 500, 100)\n",
    "potential_spend\n",
    "\n",
    "# 0 ile 500 arasında 100 farklı harcama tutarı elde etmek için linspace fonk. kullanıyoruz. Ve bu değerleri potential_spend\n",
    "# değişkenine atıyoruz."
   ]
  },
  {
   "cell_type": "code",
   "execution_count": 40,
   "id": "41026372",
   "metadata": {
    "ExecuteTime": {
     "end_time": "2022-11-20T13:01:24.521723Z",
     "start_time": "2022-11-20T13:01:24.506774Z"
    },
    "id": "41026372",
    "outputId": "5f76077d-0ce7-453c-9068-f25d1699f96e"
   },
   "outputs": [
    {
     "data": {
      "text/plain": [
       "array([ 4.24302822,  4.4889266 ,  4.73482498,  4.98072336,  5.22662174,\n",
       "        5.47252012,  5.7184185 ,  5.96431688,  6.21021526,  6.45611364,\n",
       "        6.70201202,  6.9479104 ,  7.19380878,  7.43970716,  7.68560554,\n",
       "        7.93150392,  8.1774023 ,  8.42330068,  8.66919906,  8.91509744,\n",
       "        9.16099582,  9.4068942 ,  9.65279258,  9.89869097, 10.14458935,\n",
       "       10.39048773, 10.63638611, 10.88228449, 11.12818287, 11.37408125,\n",
       "       11.61997963, 11.86587801, 12.11177639, 12.35767477, 12.60357315,\n",
       "       12.84947153, 13.09536991, 13.34126829, 13.58716667, 13.83306505,\n",
       "       14.07896343, 14.32486181, 14.57076019, 14.81665857, 15.06255695,\n",
       "       15.30845533, 15.55435371, 15.80025209, 16.04615048, 16.29204886,\n",
       "       16.53794724, 16.78384562, 17.029744  , 17.27564238, 17.52154076,\n",
       "       17.76743914, 18.01333752, 18.2592359 , 18.50513428, 18.75103266,\n",
       "       18.99693104, 19.24282942, 19.4887278 , 19.73462618, 19.98052456,\n",
       "       20.22642294, 20.47232132, 20.7182197 , 20.96411808, 21.21001646,\n",
       "       21.45591484, 21.70181322, 21.9477116 , 22.19360999, 22.43950837,\n",
       "       22.68540675, 22.93130513, 23.17720351, 23.42310189, 23.66900027,\n",
       "       23.91489865, 24.16079703, 24.40669541, 24.65259379, 24.89849217,\n",
       "       25.14439055, 25.39028893, 25.63618731, 25.88208569, 26.12798407,\n",
       "       26.37388245, 26.61978083, 26.86567921, 27.11157759, 27.35747597,\n",
       "       27.60337435, 27.84927273, 28.09517111, 28.3410695 , 28.58696788])"
      ]
     },
     "execution_count": 40,
     "metadata": {},
     "output_type": "execute_result"
    }
   ],
   "source": [
    "predicted_sales_lin = b1* potential_spend + b0\n",
    "predicted_sales_lin\n",
    "\n",
    "# potential_spend değişkenini b1 katsayısı ile çarpıp herbilrine b0 ilave ederek tahmnilerimizi aıyoruz.\n",
    "# Bu işlemleri manuel olarak yapmamaıza gerek yok sklerarn bunların hepsini otomatik olarak yapacak"
   ]
  },
  {
   "cell_type": "code",
   "execution_count": null,
   "id": "5ce7f620",
   "metadata": {
    "id": "5ce7f620"
   },
   "outputs": [],
   "source": []
  },
  {
   "cell_type": "code",
   "execution_count": null,
   "id": "5d642024",
   "metadata": {
    "id": "5d642024"
   },
   "outputs": [],
   "source": []
  }
 ],
 "metadata": {
  "colab": {
   "provenance": []
  },
  "kernelspec": {
   "display_name": "Python 3 (ipykernel)",
   "language": "python",
   "name": "python3"
  },
  "language_info": {
   "codemirror_mode": {
    "name": "ipython",
    "version": 3
   },
   "file_extension": ".py",
   "mimetype": "text/x-python",
   "name": "python",
   "nbconvert_exporter": "python",
   "pygments_lexer": "ipython3",
   "version": "3.9.12"
  },
  "toc": {
   "base_numbering": 1,
   "nav_menu": {},
   "number_sections": true,
   "sideBar": true,
   "skip_h1_title": false,
   "title_cell": "Table of Contents",
   "title_sidebar": "Contents",
   "toc_cell": false,
   "toc_position": {},
   "toc_section_display": true,
   "toc_window_display": false
  },
  "varInspector": {
   "cols": {
    "lenName": 16,
    "lenType": 16,
    "lenVar": 40
   },
   "kernels_config": {
    "python": {
     "delete_cmd_postfix": "",
     "delete_cmd_prefix": "del ",
     "library": "var_list.py",
     "varRefreshCmd": "print(var_dic_list())"
    },
    "r": {
     "delete_cmd_postfix": ") ",
     "delete_cmd_prefix": "rm(",
     "library": "var_list.r",
     "varRefreshCmd": "cat(var_dic_list()) "
    }
   },
   "types_to_exclude": [
    "module",
    "function",
    "builtin_function_or_method",
    "instance",
    "_Feature"
   ],
   "window_display": false
  }
 },
 "nbformat": 4,
 "nbformat_minor": 5
}
